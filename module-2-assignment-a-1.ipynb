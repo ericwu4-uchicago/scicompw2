{
 "cells": [
  {
   "cell_type": "markdown",
   "metadata": {},
   "source": [
    "# Exercise 1 \n",
    "------------\n",
    "\n",
    "Based on the standard genetic code codon table, which of the three codon positions (first, second or third) is most sensitive to a mutation?  That is, at which position in a codon would a nucleotide substitution be most likely to change the amino acid.  How much more likely than the least sensitive position?  \n",
    "\n",
    "Please explain your answer and show any relevant work.  \n",
    "\n",
    ">Hint: The correct answer will require computation, not intuition."
   ]
  },
  {
   "cell_type": "code",
   "execution_count": null,
   "metadata": {},
   "outputs": [],
   "source": [
    "# Solution here...\n",
    "\n",
    "import mymodule\n",
    "\n",
    "mymodule.somefunction()\n",
    "#already done in last week's hw"
   ]
  },
  {
   "cell_type": "markdown",
   "metadata": {},
   "source": [
    "# Exercise 2\n",
    "-------------\n",
    "\n",
    "In molecular biology and genetics, GC-content (or guanine-cytosine content) is the percentage of nitrogenous bases in a DNA or RNA molecule that are either guanine (G) or cytosine (C). \n",
    "\n",
    "\n",
    "![](https://upload.wikimedia.org/wikipedia/commons/thumb/1/1a/AT-GC.jpg/320px-AT-GC.jpg)\n",
    "\n",
    "_Nucleotide bonds showing AT and GC pairs. Arrows point to the hydrogen bonds._\n",
    "\n",
    "This measure indicates the proportion of G and C bases out of an implied four total bases, also including adenine and thymine in DNA and adenine and uracil in RNA. GC-content may be given for a certain fragment of DNA or RNA or for an entire genome and is typically expressed as a percentage value using the formula:\n",
    "\n",
    "$ \\frac{(G+C)}{(A+T+G+C)} * 100 $\n",
    "\n",
    "GC-rich regions of a genome typically include many protein-coding genes within them, Determination of GC-ratios of these specific regions contributes to mapping gene-rich regions of the genome. Also, since G+C bonds are stronger than A+T bonds, differences in GC-content can indicate differences in the properties of the DNA.\n",
    "\n",
    "Calculcate the GC-content for each of the following sequences in the multiple DNA sequences file (multiple_DNA.fasta). Print out the description headers and GC-content in the following format: \n",
    "```\n",
    "- >description | GC-content \n",
    "- >description | GC-content \n",
    "...\n",
    "```"
   ]
  },
  {
   "cell_type": "code",
   "execution_count": null,
   "metadata": {},
   "outputs": [],
   "source": [
    "# Your solution here...."
   ]
  },
  {
   "cell_type": "markdown",
   "metadata": {},
   "source": [
    "What are some properties and/or behaviors of genes that can be inferred from C-G content?"
   ]
  },
  {
   "cell_type": "code",
   "execution_count": null,
   "metadata": {},
   "outputs": [],
   "source": [
    "# Your answer here...\n",
    "#already done?\n"
   ]
  },
  {
   "cell_type": "markdown",
   "metadata": {},
   "source": [
    "# Exercise 3\n",
    "------------\n",
    "\n",
    "A recent report has suggested that Human SARS-CoV-2 has evolved to reduce CG dinucleotide in its open reading frames[1]. The authors suggest that this allows the SARS-Cov-2 virus to reproduce more efficiently in host cells becuase of reduced stability.\n",
    "\n",
    "It is also suggested that SARS-CoV-2 is more efficient in reproduction than other coronaviruses, because less energy is consumed in disrupting the stem-loops formed by its genomic RNA. The stability of a stem-loop structure is dependent on number of hydrogen bonds formed between bases in the stem part. Because C-G and T-A base-pairs are formed through three and two hydrogen bonds respectively, a viral RNA strand with high number of C and G bases will form more stable stem-loops than that with high number of T and A bases.\n",
    "\n",
    "Using your solutions from the previous exercises, assess whether this claim is consistent with the fatality ratios frum Human MERS-Cov and Human SARS-Cov[2]. Identify all the ORFs and compute the average CG-content for each genome. The genome sequences can be found in the following files: human_sars-cov.fasta, human_sars_cov-2.fasta,and human_mers_cov.fasta\n",
    "\n",
    ">The approach we are using here is simplified compared to the full experiment conducted by Wang et. al., however, it will still be useful to gain some insights.\n",
    "\n",
    "Fill out the following table with your values."
   ]
  },
  {
   "cell_type": "markdown",
   "metadata": {},
   "source": [
    "| Coronavirus | ID | Fatality Ratio | No. ORFs | Avg. GC-content |\n",
    "|-------------|----|----------------|------|-----------|\n",
    "| Human MERS-CoV | JX869059.2 | 39% | ? | ? |\n",
    "| Human SARS-CoV | KY352407.1 | 9% | ? | ? |\n",
    "| Human SARS-CoV-2 | NC_045512.2 | 2.4% | ? | ? |\n"
   ]
  },
  {
   "cell_type": "code",
   "execution_count": null,
   "metadata": {},
   "outputs": [],
   "source": [
    "# Complete the table above and briefly explain your results and conclusion\n",
    "#done previously\n",
    "\n"
   ]
  },
  {
   "cell_type": "markdown",
   "metadata": {},
   "source": [
    "\n",
    "References:\n",
    "1. Wang, Y., Mao, JM., Wang, GD. et al. Human SARS-CoV-2 has evolved to reduce CG dinucleotide in its open reading frames. Sci Rep 10, 12331 (2020). https://doi.org/10.1038/s41598-020-69342-y\n",
    "2. Peeri, N. C. et al. The SARS, MERS and novel coronavirus (COVID-19) epidemics, the newest and biggest global health threats: what lessons have we learned?. Int. J. Epidemiol. https://doi.org/10.1093/ije/dyaa033 (2020)."
   ]
  },
  {
   "cell_type": "markdown",
   "metadata": {},
   "source": [
    "\n",
    "# Exercise 4. CpG Islands\n",
    "-------------------------\n",
    "CpG islands are often found in the 5' regions of vertebrate genes, therefore this program can be used to highlight potential genes in genomic sequence and were first described by [Gardiner-Garden and Frommer (1987)](https://pubmed.ncbi.nlm.nih.gov/3656447/).\n",
    "\n",
    "The calculation is performed using a 200 bp window moving across the sequence at 1bp intervals. CpG islands are defined as sequence ranges where the `Observed`/`Expected` value is greater than 0.6 and the `GC` content is greater than 50%. The expected number of CpG dimers in a window is calculated as the number of `C`s in the window multiplied by the number of `G`s in the window, divided by the window length.  \n",
    "\n",
    "In 2002, Takai and Jones published an improved algorithm for identifying CpG islands in genomes, [Comprehensive analysis of CpG islands in human chromosomes 21 and 22 - PubMed](https://pubmed.ncbi.nlm.nih.gov/11891299/), that tweaked some of the parameters and identified some new thresholds to consider. Identification of CpG islands is still a very active research topic and today makes use of advanced mathematical and computational approaches.\n",
    "\n",
    "Implement the Gardiner-Garden and Frommer algorithm and use it to identify all the CpG islands in Human [Chromosome 21](https://www.ncbi.nlm.nih.gov/nuccore/NC_000021?report=fasta).\n",
    "\n",
    "> Note: You can ignore the `N` characters because you do not know if it is C or G.\n",
    "\n",
    "<!--\n",
    "Implement the Takai and Jones algorithm.\n",
    "threespine stickleback \n",
    "\n",
    "https://stickleback.genetics.uga.edu\n",
    "\n",
    "[stickleback_v5_assembly.fa.gz](https://stickleback.genetics.uga.edu/downloadData/v5_assembly/stickleback_v5_assembly.fa.gz)\n",
    "-->\n",
    "\n",
    "### Examples of CpG Programs\n",
    "The following are online CpG island calculators to use as references.\n",
    "* [CpG Islands](https://www.genscript.com/sms2/cpg_islands.html)\n",
    "* [EMBOSS: cpgplot](http://emboss.sourceforge.net/apps/release/6.3/emboss/apps/cpgplot.html)\n",
    "* [CpG island Finder](http://dbcat.cgm.ntu.edu.tw/cgi-bin/CpG.cgi)\n",
    "\n",
    "<!--\n",
    "CpG-islander\n",
    "● Make a Python-program that finds CpG-islands from a given DNA-sequence\n",
    "● Test you program with sequences “finland_mtDNA.fasta” and\n",
    "“italy_mtDNA.fasta” - do you see any differences in CpG-islands?\n",
    "\n",
    "## An Improved Algorithm\n",
    " - look at several algorithms https://github.com/lucasnell/TaJoCGI\n",
    " - Does this lead to better ORF identification. What is a gene?\n",
    "\n",
    "<!-- - will do HMM of this later in class\n",
    " - plot and multiprocessing??\n",
    "\n",
    "OE = ((number of C + number of G)/2)² / length of sequence\n",
    "\n",
    "- CPG islands code\n",
    "https://www.bioinformatics.org/sms2/cpg_islands.html\n",
    "-->\n"
   ]
  },
  {
   "cell_type": "code",
   "execution_count": null,
   "metadata": {},
   "outputs": [],
   "source": [
    "if line[0] == '>':\n",
    "            if desc != \"\":\n",
    "                yield (desc, seq)\n",
    "                seq = \"\"\n",
    "            desc = line[1:]\n",
    "        else:\n",
    "            seq += line"
   ]
  },
  {
   "cell_type": "code",
   "execution_count": 67,
   "metadata": {},
   "outputs": [],
   "source": [
    "types = [\"C\", \"G\", \"T\", \"A\"]\n",
    "def find_windows(filename):\n",
    "    f = open(filename, 'r')\n",
    "    seq = f.read(200).strip().replace('\\n', '').upper() #https://stackoverflow.com/questions/9347419/python-strip-with-n\n",
    "    seq.replace(\"N\", '')\n",
    "    nextchar = f.read(1).strip().upper()\n",
    "    while (len(seq) < 200 and nextchar):\n",
    "        if (nextchar in types):\n",
    "            seq += nextchar\n",
    "        nextchar = f.read(1).upper()\n",
    "    ccount = seq.count('C')\n",
    "    gcount = seq.count('G')\n",
    "    observed = seq.count('CG')\n",
    "    total = ccount + gcount + seq.count('T') + seq.count('A')\n",
    "    if ((ccount + gcount) / total > 0.5):\n",
    "        expected = ccount * gcount / total\n",
    "        if (expected != 0 and observed / expected > 0.6):\n",
    "            print(\"The first 200 characters is a CpG island.\")\n",
    "    nextchar = f.read(1).upper()\n",
    "    loc = 1\n",
    "    while nextchar:\n",
    "        if (nextchar in types):\n",
    "            if (seq[0] == 'C'):\n",
    "                ccount += -1\n",
    "                if (seq[1] == 'G'):\n",
    "                    observed += -1\n",
    "            elif (seq[0] == 'G'):\n",
    "                gcount += -1\n",
    "            seq = seq[1:]\n",
    "            seq += nextchar \n",
    "            if (nextchar == 'C'):\n",
    "                ccount += 1\n",
    "            elif (nextchar == 'G'):\n",
    "                gcount += 1\n",
    "                if (seq[-1] == 'C'):\n",
    "                    observed += 1\n",
    "            if ((ccount + gcount) / total > 0.5):\n",
    "                expected = ccount * gcount / total\n",
    "                if (expected != 0  and observed / expected > 0.6):\n",
    "                    print(f\"{loc} to {loc + 200} characters are a CpG island.\")\n",
    "        loc += 1\n",
    "        nextchar = f.read(1).upper()\n",
    "        #print(nextchar)\n",
    "        #line = f.readline().strip()\n",
    "\n",
    "    f.close()"
   ]
  },
  {
   "cell_type": "markdown",
   "metadata": {},
   "source": [
    "f = open('test.txt', 'r')\n",
    "nextchar = f.read(1)\n",
    "while(nextchar):\n",
    "    print(nextchar)\n",
    "    nextchar = f.read(1)\n",
    "f.close()"
   ]
  },
  {
   "cell_type": "code",
   "execution_count": 69,
   "metadata": {},
   "outputs": [],
   "source": [
    "find_windows(\"sequence.fasta\")\n"
   ]
  },
  {
   "cell_type": "code",
   "execution_count": null,
   "metadata": {},
   "outputs": [],
   "source": []
  }
 ],
 "metadata": {
  "kernelspec": {
   "display_name": "Python 3",
   "language": "python",
   "name": "python3"
  },
  "language_info": {
   "codemirror_mode": {
    "name": "ipython",
    "version": 3
   },
   "file_extension": ".py",
   "mimetype": "text/x-python",
   "name": "python",
   "nbconvert_exporter": "python",
   "pygments_lexer": "ipython3",
   "version": "3.8.3"
  }
 },
 "nbformat": 4,
 "nbformat_minor": 2
}
