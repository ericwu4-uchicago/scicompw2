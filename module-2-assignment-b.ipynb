{
 "cells": [
  {
   "cell_type": "markdown",
   "metadata": {},
   "source": [
    "This will use the relatively crude method of having each of c, g, t, a represent one possiblity of a two bit combination and additional letters to tell if there are an odd or even number of bits total. We need an even number of bits as each byte or char is eight bits."
   ]
  },
  {
   "cell_type": "code",
   "execution_count": 53,
   "metadata": {},
   "outputs": [],
   "source": [
    "import binascii\n",
    "\n",
    "entries = [(\"c\", \"00\"), (\"g\", \"01\"), (\"t\", \"10\"), (\"a\", \"11\")]\n",
    "#https://www.entechin.com/how-to-convert-binary-string-to-and-from-ascii-text-in-python/\n",
    "def dnaloctostring(dnastringloc):\n",
    "    f = open(dnastringloc, 'r')\n",
    "    char = f.read(1).lower()\n",
    "    count = 0\n",
    "    binarychar = \"\"\n",
    "    while (char):\n",
    "        count += 1\n",
    "        loc = -1\n",
    "        for i in range(len(entries)):\n",
    "            if (entries[i][0] == char):\n",
    "                loc = i\n",
    "        binarychar += entries[loc][1]\n",
    "        if (loc == 4):\n",
    "            input_array = binarychar.to_bytes(1, \"big\")\n",
    "            ASCII_value = input_array.decode()\n",
    "            yield ASCII_value\n",
    "            binarychar = \"\"\n",
    "        char = f.read(1).lower()\n",
    "    f.close()\n",
    "    \n",
    "def dnatostring(dnastring): \n",
    "    output = \"\"\n",
    "    binarychar = \"\"\n",
    "    count = 0\n",
    "    for char in dnastring:\n",
    "        loc = -1\n",
    "        for i in range(len(entries)):\n",
    "            if (entries[i][0] == char):\n",
    "                loc = i\n",
    "        binarychar += entries[loc][1]\n",
    "        count += 1 \n",
    "        if (count == 4):\n",
    "            binarychar = int(binarychar, 2)\n",
    "            input_array = binarychar.to_bytes(1, \"big\")\n",
    "            ASCII_value = input_array.decode()\n",
    "            output += ASCII_value\n",
    "            binarychar = \"\"\n",
    "            count = 0\n",
    "    print(output)\n",
    "    \n",
    "def stringtodna(string):\n",
    "    output = \"\"\n",
    "    for char in string:\n",
    "        #print(char)\n",
    "        code = ord(char)\n",
    "        binary = str(bin(code))[2:]\n",
    "        while (len(binary) < 8):\n",
    "            binary = '0' + binary\n",
    "        for i in range(4):\n",
    "            binarychunk = binary[2 * i: 2 * i + 2]\n",
    "            for j in range(len(entries)):\n",
    "                if (entries[j][1] == binarychunk):\n",
    "                    #print(\"hit\")\n",
    "                    output += entries[j][0]\n",
    "                    \n",
    "    print(output)\n",
    "    return output"
   ]
  },
  {
   "cell_type": "code",
   "execution_count": 44,
   "metadata": {},
   "outputs": [
    {
     "name": "stdout",
     "output_type": "stream",
     "text": [
      "gggagttcgtgggtatctccgttggtatctccgagcgttcgtggctccgccagtaagagggactgacagtggctccgtaagtgtctccgttcgagggtaggtcggtatctccgtgggagtgtgggtatgagcgacactacctccgttggagcctccgtctgtgggtcagtaagtaggtgggacactccgtatgtgggtcagtgggacagacagtcggactgatgctccgtgtgtaagactctccgtaagtatgtggctccgaccgtgggtaagaccgtacgtggctccgagcgtaactccgtgcgttggacagacagtaagtacgagtgtggctccgagcgttcgtggctccgaccgtaagtacgttggagcgttggtcagtcggtacctccgtctgtcggtatgtgcgacactccgagagttcgttggtcagttcctccgttcgtcggagtgtggctccccttgtcagtaagtatgtatgtgggtcagagcgtgggtgcctccgagcgttcgtgggtagctccgagagttggagcgttcctccgtcggtatgtaagagcgttcgtgggactctacctccgtcggtatgtgcctccgagcgtaactccgtcggacagacagagggtaggtggctccgtcggtaggtaagtatgtgactccgagcgttcgtggctccgaccgtaagagagtgggactgacactccgtaagtgtctccgagcgttcgtggctccgtgggtcggactgagcgttcctacctccgagcgttcgtggctccgacagtgggaccgtcggactgtcggagcgtggctccgtcggtatgtgcctccgtgggacggagggtcggtacctccgacagagcgtcggagcgttggtaagtatctccgagcgtaactccgagagttcgttggtcagttcctccgagcgttcgtggctccccttgcacgtcggagagacactccgtaagtgtctccgcatgtcggagcgagggactgtggctccgtcggtatgtgcctccgtaagtgtctccgcatgtcggagcgagggactgtggctgagacactccgcgagtaagtgcctccgtgggtatgagcgttggagcgtacgtggctccgagcgttcgtgggtagctacctccgtcgctccgtgcgtgggtcagtgggtatgagcctccgactgtgggacagaccgtgggtcagagcctccgagcgtaactccgagcgttcgtggctccgtaagaccgttggtatgttggtaagtatgacactccgtaagtgtctccgtaggtcggtatgttagttggtatgtgcctccgactgtgggacggagggttggactgtgggacactccgagcgttcgtcggagcccttgagcgttcgtgggatgctccgacagttcgtaagagggtacgtgcctccgtgcgtgggtcagtacgtcggactgtggctccgagcgttcgtggctccgtcagtcggagggacagtgggacactccgagagttcgttggtcagttcctccgttggtaggaccgtgggtacctccgagcgttcgtgggtagctccgagcgtaactccgagcgttcgtggctccgacagtgggaccgtcggactgtcggagcgttggtaagtatctat\n"
     ]
    }
   ],
   "source": [
    "string = \"\"\"When in the Course of human events, it becomes necessary for one people to dissolve the political bands which have \n",
    "connected them with another, and to assume among the powers of the earth, the separate and equal station to which the \n",
    "Laws of Nature and of Nature's God entitle them, a decent respect to the opinions of mankind requires that\n",
    "they should declare the causes which impel them to the separation.\"\"\"\n",
    "\n",
    "dna = stringtodna(string)"
   ]
  },
  {
   "cell_type": "code",
   "execution_count": 54,
   "metadata": {},
   "outputs": [
    {
     "name": "stdout",
     "output_type": "stream",
     "text": [
      "When in the Course of human events, it becomes necessary for one people to dissolve the political bands which have \n",
      "connected them with another, and to assume among the powers of the earth, the separate and equal station to which the \n",
      "Laws of Nature and of Nature's God entitle them, a decent respect to the opinions of mankind requires that\n",
      "they should declare the causes which impel them to the separation.\n"
     ]
    }
   ],
   "source": [
    "dnatostring(dna)"
   ]
  },
  {
   "cell_type": "code",
   "execution_count": null,
   "metadata": {},
   "outputs": [],
   "source": []
  }
 ],
 "metadata": {
  "kernelspec": {
   "display_name": "Python 3",
   "language": "python",
   "name": "python3"
  },
  "language_info": {
   "codemirror_mode": {
    "name": "ipython",
    "version": 3
   },
   "file_extension": ".py",
   "mimetype": "text/x-python",
   "name": "python",
   "nbconvert_exporter": "python",
   "pygments_lexer": "ipython3",
   "version": "3.8.3"
  }
 },
 "nbformat": 4,
 "nbformat_minor": 4
}
